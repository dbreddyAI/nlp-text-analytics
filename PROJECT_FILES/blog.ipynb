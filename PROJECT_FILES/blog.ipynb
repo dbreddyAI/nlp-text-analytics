{
 "cells": [
  {
   "cell_type": "markdown",
   "metadata": {},
   "source": [
    "# NLP Text Analytics Splunk App - Blog\n",
    "##### Author: Nathan Worsham\n",
    "##### Created for MSDS692 Data Science Practicum I at Regis University, 2018\n",
    "\n",
    "Most projects for the Data Science Practicum revolved around collecting a dataset, cleaning it, exploring it, and then using machine learning algorithms on it to perform some sort of prediction or classification. I decided to go a bit outside the box and instead build a Splunk App for my project.\n",
    "\n",
    "## Inspiration\n",
    "I have built a few Splunk Apps previously so I was at least familiar with the practice and just before this class took a class on text analytics. I am fascinated with the subject and already had a few (internal) dashboards trying to do some text analytics. After I took the text analytics course though, I realized some of the shortcommings that Splunk had. Granted system logs are not something you think of immediately having natural language but that is not the only source of text in Splunk as it can consume anything human readable. In my own place of work, one immediate example that stood out in my mind was support ticket summaries and descriptions but I'm sure sources do not stop there. \n",
    "\n",
    "## Description\n",
    "\n",
    "So given that information, the intent of this app is to provide a simple interface for analyzing text in Splunk using python natural language processing libraries (currently just NLTK 3.3). The app provides custom commands and dashboards to show how to use it.\n"
   ]
  },
  {
   "cell_type": "code",
   "execution_count": null,
   "metadata": {},
   "outputs": [],
   "source": []
  }
 ],
 "metadata": {
  "kernelspec": {
   "display_name": "Python 2",
   "language": "python",
   "name": "python2"
  },
  "language_info": {
   "codemirror_mode": {
    "name": "ipython",
    "version": 3
   },
   "file_extension": ".py",
   "mimetype": "text/x-python",
   "name": "python",
   "nbconvert_exporter": "python",
   "pygments_lexer": "ipython3",
   "version": "3.6.4"
  }
 },
 "nbformat": 4,
 "nbformat_minor": 2
}
