{
 "cells": [
  {
   "cell_type": "markdown",
   "metadata": {},
   "source": [
    "Download the text--The Count of Monte Cristo, remove the gutenberg_ig column and remove rows that are empty."
   ]
  },
  {
   "cell_type": "code",
   "execution_count": 2,
   "metadata": {},
   "outputs": [],
   "source": [
    "import re\n",
    "from rpy2.robjects.packages import importr\n",
    "import rpy2.robjects as ro\n",
    "from rpy2.robjects import pandas2ri\n",
    "\n",
    "pandas2ri.activate()\n",
    "importr('gutenbergr')\n",
    "\n",
    "df = ro.r('gutenberg_download(\"1184\")')\n",
    "df.drop('gutenberg_id', inplace=True, axis=1)\n",
    "df = df[df['text'] != ''].reset_index(drop=True)"
   ]
  },
  {
   "cell_type": "code",
   "execution_count": 3,
   "metadata": {
    "scrolled": false
   },
   "outputs": [
    {
     "data": {
      "text/plain": [
       "0                  THE COUNT OF MONTE CRISTO\n",
       "1                  by Alexandre Dumas [père]\n",
       "2                                      0009m\n",
       "3                                      0011m\n",
       "4                                      0019m\n",
       "5                                   Contents\n",
       "6                                 VOLUME ONE\n",
       "7          Chapter 1. Marseilles—The Arrival\n",
       "8                  Chapter 2. Father and Son\n",
       "9                    Chapter 3. The Catalans\n",
       "10                     Chapter 4. Conspiracy\n",
       "11             Chapter 5. The Marriage Feast\n",
       "12    Chapter 6. The Deputy Procureur du Roi\n",
       "13                Chapter 7. The Examination\n",
       "14               Chapter 8. The Château d’If\n",
       "Name: text, dtype: object"
      ]
     },
     "execution_count": 3,
     "metadata": {},
     "output_type": "execute_result"
    }
   ],
   "source": [
    "df.iloc[:15]['text']"
   ]
  },
  {
   "cell_type": "markdown",
   "metadata": {},
   "source": [
    "Capture the title"
   ]
  },
  {
   "cell_type": "code",
   "execution_count": 4,
   "metadata": {},
   "outputs": [
    {
     "data": {
      "text/plain": [
       "'THE COUNT OF MONTE CRISTO'"
      ]
     },
     "execution_count": 4,
     "metadata": {},
     "output_type": "execute_result"
    }
   ],
   "source": [
    "title = df.iloc[0]['text']\n",
    "title"
   ]
  },
  {
   "cell_type": "markdown",
   "metadata": {},
   "source": [
    "Capture the author"
   ]
  },
  {
   "cell_type": "code",
   "execution_count": 5,
   "metadata": {},
   "outputs": [
    {
     "data": {
      "text/plain": [
       "'Alexandre Dumas'"
      ]
     },
     "execution_count": 5,
     "metadata": {},
     "output_type": "execute_result"
    }
   ],
   "source": [
    "author = df.iloc[1]['text']\n",
    "author = re.search('^by (\\w+ \\w+)',author).group(1)\n",
    "author"
   ]
  },
  {
   "cell_type": "markdown",
   "metadata": {},
   "source": [
    "See how many occurances of Chapter 1. happen."
   ]
  },
  {
   "cell_type": "code",
   "execution_count": 6,
   "metadata": {},
   "outputs": [
    {
     "data": {
      "text/plain": [
       "[7, 129]"
      ]
     },
     "execution_count": 6,
     "metadata": {},
     "output_type": "execute_result"
    }
   ],
   "source": [
    "df[df.text.str.contains('^Chapter 1\\.')].index.tolist()"
   ]
  },
  {
   "cell_type": "markdown",
   "metadata": {},
   "source": [
    "Remove the text up until Chapter 1 begins (there are 2 occurances)"
   ]
  },
  {
   "cell_type": "code",
   "execution_count": 7,
   "metadata": {},
   "outputs": [],
   "source": [
    "df.drop(df.index[:df[df.text.str.contains('^Chapter 1\\.')].index.tolist()[0]+1], inplace=True)\n",
    "df.reset_index(inplace=True, drop=True)\n",
    "df.drop(df.index[:df[df.text.str.contains('^Chapter 1\\.')].index.tolist()[0]], inplace=True)\n",
    "df.reset_index(inplace=True, drop=True)"
   ]
  },
  {
   "cell_type": "markdown",
   "metadata": {},
   "source": [
    "Remove lines delineating volumes"
   ]
  },
  {
   "cell_type": "code",
   "execution_count": 9,
   "metadata": {
    "scrolled": true
   },
   "outputs": [
    {
     "data": {
      "text/plain": [
       "[9232, 19517, 29381, 37420]"
      ]
     },
     "execution_count": 9,
     "metadata": {},
     "output_type": "execute_result"
    }
   ],
   "source": [
    "df[df.text.str.contains('^VOLUME')].index.tolist()"
   ]
  },
  {
   "cell_type": "code",
   "execution_count": 10,
   "metadata": {},
   "outputs": [],
   "source": [
    "df.drop(df[df.text.str.contains('^VOLUME')].index.tolist(), inplace=True)"
   ]
  },
  {
   "cell_type": "markdown",
   "metadata": {},
   "source": [
    "Remove strange lines of four digits and then an \"m\""
   ]
  },
  {
   "cell_type": "code",
   "execution_count": 18,
   "metadata": {},
   "outputs": [],
   "source": [
    "df.drop(df[df.text.str.contains('^\\d{4}m$')].index.tolist(), inplace=True)"
   ]
  },
  {
   "cell_type": "markdown",
   "metadata": {},
   "source": [
    "Make a table of contents list with chapters"
   ]
  },
  {
   "cell_type": "code",
   "execution_count": 19,
   "metadata": {},
   "outputs": [],
   "source": [
    "TOC = df[df.text.str.contains('^Chapter')]['text'].tolist()"
   ]
  },
  {
   "cell_type": "code",
   "execution_count": 20,
   "metadata": {},
   "outputs": [
    {
     "data": {
      "text/plain": [
       "117"
      ]
     },
     "execution_count": 20,
     "metadata": {},
     "output_type": "execute_result"
    }
   ],
   "source": [
    "len(TOC)"
   ]
  },
  {
   "cell_type": "markdown",
   "metadata": {},
   "source": [
    "Combine chapter data together"
   ]
  },
  {
   "cell_type": "code",
   "execution_count": 21,
   "metadata": {},
   "outputs": [],
   "source": [
    "corpus_dict = {}\n",
    "i = 0\n",
    "for k,v in df[1:].to_dict()['text'].items():\n",
    "    if i not in corpus_dict:\n",
    "        corpus_dict[i] = []\n",
    "    if v not in TOC:\n",
    "        corpus_dict[i].append(v)\n",
    "    else:\n",
    "        i += 1\n",
    "        corpus_dict[i] = []"
   ]
  },
  {
   "cell_type": "code",
   "execution_count": 22,
   "metadata": {},
   "outputs": [
    {
     "data": {
      "text/plain": [
       "117"
      ]
     },
     "execution_count": 22,
     "metadata": {},
     "output_type": "execute_result"
    }
   ],
   "source": [
    "len(corpus_dict)"
   ]
  },
  {
   "cell_type": "markdown",
   "metadata": {},
   "source": [
    "Parse text into sentences, store them in a dict as prepartion to move into a dataframe with columns of title, chapter and sentence."
   ]
  },
  {
   "cell_type": "code",
   "execution_count": 23,
   "metadata": {},
   "outputs": [],
   "source": [
    "from nltk.tokenize import sent_tokenize\n",
    "sentence_dict = {}\n",
    "sentence_dict['title'] = []\n",
    "sentence_dict['chapter'] = []\n",
    "sentence_dict['sentence'] = []\n",
    "sentence_dict['author'] = []\n",
    "for k,v in corpus_dict.items():\n",
    "    for sentence in sent_tokenize(' '.join(v)):\n",
    "        sentence_dict['title'].append(title)\n",
    "        sentence_dict['chapter'].append(TOC[k])\n",
    "        sentence_dict['sentence'].append(sentence)\n",
    "        sentence_dict['author'].append(author)"
   ]
  },
  {
   "cell_type": "markdown",
   "metadata": {},
   "source": [
    "Place the dict into a data frame so the data can be output to a csv easily."
   ]
  },
  {
   "cell_type": "code",
   "execution_count": 24,
   "metadata": {},
   "outputs": [],
   "source": [
    "import pandas as pd\n",
    "final_df = pd.DataFrame.from_dict(sentence_dict)"
   ]
  },
  {
   "cell_type": "code",
   "execution_count": 25,
   "metadata": {},
   "outputs": [
    {
     "data": {
      "text/html": [
       "<div>\n",
       "<style scoped>\n",
       "    .dataframe tbody tr th:only-of-type {\n",
       "        vertical-align: middle;\n",
       "    }\n",
       "\n",
       "    .dataframe tbody tr th {\n",
       "        vertical-align: top;\n",
       "    }\n",
       "\n",
       "    .dataframe thead th {\n",
       "        text-align: right;\n",
       "    }\n",
       "</style>\n",
       "<table border=\"1\" class=\"dataframe\">\n",
       "  <thead>\n",
       "    <tr style=\"text-align: right;\">\n",
       "      <th></th>\n",
       "      <th>author</th>\n",
       "      <th>chapter</th>\n",
       "      <th>sentence</th>\n",
       "      <th>title</th>\n",
       "    </tr>\n",
       "  </thead>\n",
       "  <tbody>\n",
       "    <tr>\n",
       "      <th>7515</th>\n",
       "      <td>Alexandre Dumas</td>\n",
       "      <td>Chapter 56. Andrea Cavalcanti</td>\n",
       "      <td>At length I received this letter from your fri...</td>\n",
       "      <td>THE COUNT OF MONTE CRISTO</td>\n",
       "    </tr>\n",
       "    <tr>\n",
       "      <th>9668</th>\n",
       "      <td>Alexandre Dumas</td>\n",
       "      <td>Chapter 74. The Villefort Family Vault</td>\n",
       "      <td>You may call on the notary, M. Deschamps, Plac...</td>\n",
       "      <td>THE COUNT OF MONTE CRISTO</td>\n",
       "    </tr>\n",
       "    <tr>\n",
       "      <th>9473</th>\n",
       "      <td>Alexandre Dumas</td>\n",
       "      <td>Chapter 73. The Promise</td>\n",
       "      <td>Oh, if such a thought could present itself, I ...</td>\n",
       "      <td>THE COUNT OF MONTE CRISTO</td>\n",
       "    </tr>\n",
       "    <tr>\n",
       "      <th>9327</th>\n",
       "      <td>Alexandre Dumas</td>\n",
       "      <td>Chapter 73. The Promise</td>\n",
       "      <td>I imitate neither Manfred nor Anthony; but wit...</td>\n",
       "      <td>THE COUNT OF MONTE CRISTO</td>\n",
       "    </tr>\n",
       "    <tr>\n",
       "      <th>2106</th>\n",
       "      <td>Alexandre Dumas</td>\n",
       "      <td>Chapter 19. The Third Attack</td>\n",
       "      <td>For fear the letter might be some day lost or ...</td>\n",
       "      <td>THE COUNT OF MONTE CRISTO</td>\n",
       "    </tr>\n",
       "  </tbody>\n",
       "</table>\n",
       "</div>"
      ],
      "text/plain": [
       "               author                                 chapter  \\\n",
       "7515  Alexandre Dumas           Chapter 56. Andrea Cavalcanti   \n",
       "9668  Alexandre Dumas  Chapter 74. The Villefort Family Vault   \n",
       "9473  Alexandre Dumas                 Chapter 73. The Promise   \n",
       "9327  Alexandre Dumas                 Chapter 73. The Promise   \n",
       "2106  Alexandre Dumas            Chapter 19. The Third Attack   \n",
       "\n",
       "                                               sentence  \\\n",
       "7515  At length I received this letter from your fri...   \n",
       "9668  You may call on the notary, M. Deschamps, Plac...   \n",
       "9473  Oh, if such a thought could present itself, I ...   \n",
       "9327  I imitate neither Manfred nor Anthony; but wit...   \n",
       "2106  For fear the letter might be some day lost or ...   \n",
       "\n",
       "                          title  \n",
       "7515  THE COUNT OF MONTE CRISTO  \n",
       "9668  THE COUNT OF MONTE CRISTO  \n",
       "9473  THE COUNT OF MONTE CRISTO  \n",
       "9327  THE COUNT OF MONTE CRISTO  \n",
       "2106  THE COUNT OF MONTE CRISTO  "
      ]
     },
     "execution_count": 25,
     "metadata": {},
     "output_type": "execute_result"
    }
   ],
   "source": [
    "final_df.sample(5)"
   ]
  },
  {
   "cell_type": "code",
   "execution_count": 26,
   "metadata": {},
   "outputs": [],
   "source": [
    "final_df.to_csv('./monte_cristo.csv', index=False)"
   ]
  },
  {
   "cell_type": "code",
   "execution_count": null,
   "metadata": {},
   "outputs": [],
   "source": []
  }
 ],
 "metadata": {
  "kernelspec": {
   "display_name": "Python 3",
   "language": "python",
   "name": "python3"
  },
  "language_info": {
   "codemirror_mode": {
    "name": "ipython",
    "version": 3
   },
   "file_extension": ".py",
   "mimetype": "text/x-python",
   "name": "python",
   "nbconvert_exporter": "python",
   "pygments_lexer": "ipython3",
   "version": "3.6.4"
  }
 },
 "nbformat": 4,
 "nbformat_minor": 2
}
