{
 "cells": [
  {
   "cell_type": "markdown",
   "metadata": {},
   "source": [
    "Download the text--Moby Dick, remove the gutenberg_ig column and remove rows that are empty"
   ]
  },
  {
   "cell_type": "code",
   "execution_count": 2,
   "metadata": {},
   "outputs": [],
   "source": [
    "import re\n",
    "#from functools import reduce\n",
    "#import rpy2\n",
    "from rpy2.robjects.packages import importr\n",
    "import rpy2.robjects as ro\n",
    "from rpy2.robjects import pandas2ri\n",
    "\n",
    "pandas2ri.activate()\n",
    "importr('gutenbergr')\n",
    "\n",
    "df = ro.r('gutenberg_download(\"2701\")')\n",
    "df.drop('gutenberg_id', inplace=True, axis=1)\n",
    "df = df[df['text'] != ''].reset_index(drop=True)\n",
    "#df.drop('index', inplace=True, axis=1)"
   ]
  },
  {
   "cell_type": "code",
   "execution_count": 3,
   "metadata": {},
   "outputs": [
    {
     "data": {
      "text/plain": [
       "0                               MOBY DICK; OR THE WHALE\n",
       "1                                    By Herman Melville\n",
       "2                         Original Transcriber's Notes:\n",
       "3     This text is a combination of etexts, one from...\n",
       "4     project at Virginia Tech and one from Project ...\n",
       "5     proofreaders of this version are indebted to T...\n",
       "6     Library for preserving the Virginia Tech versi...\n",
       "7     was compared with a public domain hard copy ve...\n",
       "8     In chapters 24, 89, and 90, we substituted a c...\n",
       "9            for the British pound, a unit of currency.\n",
       "10                                           ETYMOLOGY.\n",
       "11    (Supplied by a Late Consumptive Usher to a Gra...\n",
       "12    The pale Usher--threadbare in coat, heart, bod...\n",
       "13    now. He was ever dusting his old lexicons and ...\n",
       "14    handkerchief, mockingly embellished with all t...\n",
       "Name: text, dtype: object"
      ]
     },
     "execution_count": 3,
     "metadata": {},
     "output_type": "execute_result"
    }
   ],
   "source": [
    "df.iloc[:15]['text']"
   ]
  },
  {
   "cell_type": "markdown",
   "metadata": {},
   "source": [
    "Capture the title"
   ]
  },
  {
   "cell_type": "code",
   "execution_count": 4,
   "metadata": {
    "scrolled": true
   },
   "outputs": [
    {
     "data": {
      "text/plain": [
       "'MOBY DICK; OR THE WHALE'"
      ]
     },
     "execution_count": 4,
     "metadata": {},
     "output_type": "execute_result"
    }
   ],
   "source": [
    "title = df.iloc[0]['text']\n",
    "title"
   ]
  },
  {
   "cell_type": "markdown",
   "metadata": {},
   "source": [
    "Capture the author"
   ]
  },
  {
   "cell_type": "code",
   "execution_count": 5,
   "metadata": {},
   "outputs": [
    {
     "data": {
      "text/plain": [
       "'Herman Melville'"
      ]
     },
     "execution_count": 5,
     "metadata": {},
     "output_type": "execute_result"
    }
   ],
   "source": [
    "author = df.iloc[1]['text']\n",
    "author = re.sub(r'^By ','',author)\n",
    "author"
   ]
  },
  {
   "cell_type": "markdown",
   "metadata": {},
   "source": [
    "Remove the text up until Chapter 1 begins"
   ]
  },
  {
   "cell_type": "code",
   "execution_count": 6,
   "metadata": {},
   "outputs": [],
   "source": [
    "df.drop(df.index[0:df[df.text.str.contains('^CHAPTER 1\\.')].index.tolist()[0]], inplace=True)\n",
    "df.reset_index(inplace=True, drop=True)"
   ]
  },
  {
   "cell_type": "markdown",
   "metadata": {},
   "source": [
    "Make a table of contents list with chapters and epilogue"
   ]
  },
  {
   "cell_type": "code",
   "execution_count": 7,
   "metadata": {},
   "outputs": [],
   "source": [
    "TOC = df[df.text.str.contains('^CHAPTER|Epilogue')]['text'].tolist()"
   ]
  },
  {
   "cell_type": "code",
   "execution_count": 8,
   "metadata": {},
   "outputs": [
    {
     "data": {
      "text/plain": [
       "136"
      ]
     },
     "execution_count": 8,
     "metadata": {},
     "output_type": "execute_result"
    }
   ],
   "source": [
    "len(TOC)"
   ]
  },
  {
   "cell_type": "markdown",
   "metadata": {},
   "source": [
    "Combine chapter data together"
   ]
  },
  {
   "cell_type": "code",
   "execution_count": 9,
   "metadata": {},
   "outputs": [],
   "source": [
    "corpus_dict = {}\n",
    "i = 0\n",
    "for k,v in df[1:].to_dict()['text'].items():\n",
    "    if i not in corpus_dict:\n",
    "        corpus_dict[i] = []\n",
    "    if v not in TOC:\n",
    "        corpus_dict[i].append(v)\n",
    "    else:\n",
    "        i += 1\n",
    "        corpus_dict[i] = []"
   ]
  },
  {
   "cell_type": "code",
   "execution_count": 10,
   "metadata": {},
   "outputs": [
    {
     "data": {
      "text/plain": [
       "136"
      ]
     },
     "execution_count": 10,
     "metadata": {},
     "output_type": "execute_result"
    }
   ],
   "source": [
    "len(corpus_dict)"
   ]
  },
  {
   "cell_type": "markdown",
   "metadata": {},
   "source": [
    "Parse text into sentences, store them in a dict as prepartion to move into a dataframe with columns of title, chapter and sentence."
   ]
  },
  {
   "cell_type": "code",
   "execution_count": 11,
   "metadata": {},
   "outputs": [],
   "source": [
    "from nltk.tokenize import sent_tokenize\n",
    "sentence_dict = {}\n",
    "sentence_dict['title'] = []\n",
    "sentence_dict['chapter'] = []\n",
    "sentence_dict['sentence'] = []\n",
    "sentence_dict['author'] = []\n",
    "for k,v in corpus_dict.items():\n",
    "    for sentence in sent_tokenize(' '.join(v)):\n",
    "        sentence_dict['title'].append(title)\n",
    "        sentence_dict['chapter'].append(TOC[k])\n",
    "        sentence_dict['sentence'].append(sentence)\n",
    "        sentence_dict['author'].append(author)"
   ]
  },
  {
   "cell_type": "markdown",
   "metadata": {},
   "source": [
    "Place the dict into a data frame so the data can be output to a csv easily."
   ]
  },
  {
   "cell_type": "code",
   "execution_count": 12,
   "metadata": {},
   "outputs": [],
   "source": [
    "import pandas as pd\n",
    "final_df = pd.DataFrame.from_dict(sentence_dict)"
   ]
  },
  {
   "cell_type": "code",
   "execution_count": 13,
   "metadata": {},
   "outputs": [
    {
     "data": {
      "text/html": [
       "<div>\n",
       "<style scoped>\n",
       "    .dataframe tbody tr th:only-of-type {\n",
       "        vertical-align: middle;\n",
       "    }\n",
       "\n",
       "    .dataframe tbody tr th {\n",
       "        vertical-align: top;\n",
       "    }\n",
       "\n",
       "    .dataframe thead th {\n",
       "        text-align: right;\n",
       "    }\n",
       "</style>\n",
       "<table border=\"1\" class=\"dataframe\">\n",
       "  <thead>\n",
       "    <tr style=\"text-align: right;\">\n",
       "      <th></th>\n",
       "      <th>author</th>\n",
       "      <th>chapter</th>\n",
       "      <th>sentence</th>\n",
       "      <th>title</th>\n",
       "    </tr>\n",
       "  </thead>\n",
       "  <tbody>\n",
       "    <tr>\n",
       "      <th>3268</th>\n",
       "      <td>Herman Melville</td>\n",
       "      <td>CHAPTER 41. Moby Dick.</td>\n",
       "      <td>But that thing of his dissembling was only sub...</td>\n",
       "      <td>MOBY DICK; OR THE WHALE</td>\n",
       "    </tr>\n",
       "    <tr>\n",
       "      <th>8905</th>\n",
       "      <td>Herman Melville</td>\n",
       "      <td>CHAPTER 133. The Chase--First Day.</td>\n",
       "      <td>The bluish pearl-white of the inside of the ja...</td>\n",
       "      <td>MOBY DICK; OR THE WHALE</td>\n",
       "    </tr>\n",
       "    <tr>\n",
       "      <th>8611</th>\n",
       "      <td>Herman Melville</td>\n",
       "      <td>CHAPTER 129. The Cabin.</td>\n",
       "      <td>And now I quit thee.</td>\n",
       "      <td>MOBY DICK; OR THE WHALE</td>\n",
       "    </tr>\n",
       "    <tr>\n",
       "      <th>7455</th>\n",
       "      <td>Herman Melville</td>\n",
       "      <td>CHAPTER 108. Ahab and the Carpenter.</td>\n",
       "      <td>No, but put a sky-light on top of his head to ...</td>\n",
       "      <td>MOBY DICK; OR THE WHALE</td>\n",
       "    </tr>\n",
       "    <tr>\n",
       "      <th>8116</th>\n",
       "      <td>Herman Melville</td>\n",
       "      <td>CHAPTER 121. Midnight.--The Forecastle Bulwarks.</td>\n",
       "      <td>any man with half an eye can be sensible.\"</td>\n",
       "      <td>MOBY DICK; OR THE WHALE</td>\n",
       "    </tr>\n",
       "  </tbody>\n",
       "</table>\n",
       "</div>"
      ],
      "text/plain": [
       "               author                                           chapter  \\\n",
       "3268  Herman Melville                            CHAPTER 41. Moby Dick.   \n",
       "8905  Herman Melville                CHAPTER 133. The Chase--First Day.   \n",
       "8611  Herman Melville                           CHAPTER 129. The Cabin.   \n",
       "7455  Herman Melville              CHAPTER 108. Ahab and the Carpenter.   \n",
       "8116  Herman Melville  CHAPTER 121. Midnight.--The Forecastle Bulwarks.   \n",
       "\n",
       "                                               sentence  \\\n",
       "3268  But that thing of his dissembling was only sub...   \n",
       "8905  The bluish pearl-white of the inside of the ja...   \n",
       "8611                               And now I quit thee.   \n",
       "7455  No, but put a sky-light on top of his head to ...   \n",
       "8116         any man with half an eye can be sensible.\"   \n",
       "\n",
       "                        title  \n",
       "3268  MOBY DICK; OR THE WHALE  \n",
       "8905  MOBY DICK; OR THE WHALE  \n",
       "8611  MOBY DICK; OR THE WHALE  \n",
       "7455  MOBY DICK; OR THE WHALE  \n",
       "8116  MOBY DICK; OR THE WHALE  "
      ]
     },
     "execution_count": 13,
     "metadata": {},
     "output_type": "execute_result"
    }
   ],
   "source": [
    "final_df.sample(5)"
   ]
  },
  {
   "cell_type": "code",
   "execution_count": 14,
   "metadata": {},
   "outputs": [],
   "source": [
    "final_df.to_csv('./moby_dick.csv', index=False)"
   ]
  },
  {
   "cell_type": "code",
   "execution_count": null,
   "metadata": {},
   "outputs": [],
   "source": []
  }
 ],
 "metadata": {
  "kernelspec": {
   "display_name": "Python 3",
   "language": "python",
   "name": "python3"
  },
  "language_info": {
   "codemirror_mode": {
    "name": "ipython",
    "version": 3
   },
   "file_extension": ".py",
   "mimetype": "text/x-python",
   "name": "python",
   "nbconvert_exporter": "python",
   "pygments_lexer": "ipython3",
   "version": "3.6.4"
  }
 },
 "nbformat": 4,
 "nbformat_minor": 2
}
