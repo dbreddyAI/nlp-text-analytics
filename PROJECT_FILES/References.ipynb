{
 "cells": [
  {
   "cell_type": "markdown",
   "metadata": {},
   "source": [
    "# References"
   ]
  },
  {
   "cell_type": "markdown",
   "metadata": {},
   "source": [
    "Bird, S. (2018). nltk. Retrieved from https://pypi.org/project/nltk/\n"
   ]
  },
  {
   "cell_type": "markdown",
   "metadata": {},
   "source": [
    "Conger, J. (2016). Using HTML5 Input Types on Splunk Forms. Retrieved from https://www.splunk.com/content/splunk-blogs/en/2016/09/21/using-html5-input-types-on-splunk-forms.html"
   ]
  },
  {
   "cell_type": "markdown",
   "metadata": {},
   "source": [
    "Conger, J. (2017). SplunkInputTypesExample: Example Splunk application that demonstrates how to use HTLM5 input types in Simple XML Forms. JavaScript. Retrieved from https://github.com/JasonConger/SplunkInputTypesExample (Original work published 2016)\n"
   ]
  },
  {
   "cell_type": "markdown",
   "metadata": {},
   "source": [
    "Haering, G. (2016). pysqlite. Retrieved from https://pypi.org/project/pysqlite/\n"
   ]
  },
  {
   "cell_type": "markdown",
   "metadata": {},
   "source": [
    "Hilton, P. (2016). Why naming things is hard - Peter Hilton. Retrieved from http://hilton.org.uk/blog/why-naming-things-is-hard"
   ]
  },
  {
   "cell_type": "markdown",
   "metadata": {},
   "source": [
    "Hutto, C.J. & Gilbert, E.E. (2014). VADER: A Parsimonious Rule-based Model for\n",
    "Sentiment Analysis of Social Media Text. Eighth International Conference on\n",
    "Weblogs and Social Media (ICWSM-14). Ann Arbor, MI, June 201"
   ]
  },
  {
   "cell_type": "markdown",
   "metadata": {},
   "source": [
    "nltk. (2018). Consistent pos argument between wn.synsets() and WordNetLemmatizer.lemmatize() · Issue #1978 ·\n",
    "nltk/nltk. Retrieved from https://github.com/nltk/nltk/issues/1978\n"
   ]
  },
  {
   "cell_type": "markdown",
   "metadata": {},
   "source": [
    "Peterson, B. (2017). six. Retrieved from https://pypi.org/project/six/"
   ]
  },
  {
   "cell_type": "markdown",
   "metadata": {},
   "source": [
    "Sarkar, D. (2016). Text Analytics with Python: A Practical Real-World Approach to Gaining Actionable Insights from your Data. Berkeley, CA: Apress : Imprint: Apress. "
   ]
  },
  {
   "cell_type": "markdown",
   "metadata": {},
   "source": [
    "satoru. (2016, April 21). How to manually download a nltk corpus? Retrieved from https://medium.com/@satorulogic/how-to-manually-download-a-nltk-corpus-f01569861da9"
   ]
  },
  {
   "cell_type": "markdown",
   "metadata": {},
   "source": [
    "scikit-learn developers. (2017). sklearn.feature_extraction.text.TfidfVectorizer — scikit-learn 0.19.1 documentation. Retrieved from http://scikit-learn.org/stable/modules/generated/sklearn.feature_extraction.text.TfidfVectorizer.html\n"
   ]
  },
  {
   "cell_type": "markdown",
   "metadata": {},
   "source": [
    "splunkanswers.com. (n.d.). How to format inputs on my dashboard to always display in 2 rows? Retrieved from https://answers.splunk.com/answers/419122/how-to-format-inputs-on-my-dashboard-to-always-dis.html"
   ]
  },
  {
   "cell_type": "markdown",
   "metadata": {},
   "source": [
    "splunkanswers.com. (2014). Set token in the value of another token? Retrieved from https://answers.splunk.com/answers/138803/set-token-in-the-value-of-another-token.html\n"
   ]
  },
  {
   "cell_type": "markdown",
   "metadata": {},
   "source": [
    "Splunk. (2018). Add an algorithm - Splunk Documentation. Retrieved from https://docs.splunk.com/Documentation/MLApp/3.2.0/API/Overview"
   ]
  },
  {
   "cell_type": "markdown",
   "metadata": {},
   "source": [
    "Splunk. (2018). Algorithms - Splunk Documentation. Retrieved from http://docs.splunk.com/Documentation/MLApp/3.2.0/User/Algorithms\n"
   ]
  },
  {
   "cell_type": "markdown",
   "metadata": {},
   "source": [
    "Splunk. (2018). How to create custom search commands | Splunk SDK for Python. Retrieved from http://dev.splunk.com/view/python-sdk/SP-CAAAEU2\n"
   ]
  },
  {
   "cell_type": "markdown",
   "metadata": {},
   "source": [
    "splunk.com. (2018). Logging for Splunk extensions | Splunk app intelligence. Retrieved from http://dev.splunk.com/view/logging/SP-CAAAFCN"
   ]
  },
  {
   "cell_type": "markdown",
   "metadata": {},
   "source": [
    "stackoverflow.com. (2013). How can I install sqlite3 to Python? Retrieved from https://stackoverflow.com/questions/19530974/how-can-i-install-sqlite3-to-python"
   ]
  },
  {
   "cell_type": "markdown",
   "metadata": {},
   "source": [
    "stackoverflow.com. (2010). python - How to config nltk data directory from code? Retrieved May 10, 2018, from https://stackoverflow.com/a/3903787\n"
   ]
  },
  {
   "cell_type": "markdown",
   "metadata": {},
   "source": [
    "stackoverflow.com. (2009). python - Split Strings with Multiple Delimiters? Retrieved from https://stackoverflow.com/a/1059601"
   ]
  },
  {
   "cell_type": "markdown",
   "metadata": {},
   "source": [
    "stackoverflow.com. (2018). python - TypeError: __init__() got an unexpected keyword argument “n_components.” Retrieved from https://stackoverflow.com/a/48121678\n"
   ]
  },
  {
   "cell_type": "code",
   "execution_count": null,
   "metadata": {},
   "outputs": [],
   "source": []
  }
 ],
 "metadata": {
  "kernelspec": {
   "display_name": "Python 3",
   "language": "python",
   "name": "python3"
  },
  "language_info": {
   "codemirror_mode": {
    "name": "ipython",
    "version": 3
   },
   "file_extension": ".py",
   "mimetype": "text/x-python",
   "name": "python",
   "nbconvert_exporter": "python",
   "pygments_lexer": "ipython3",
   "version": "3.6.4"
  }
 },
 "nbformat": 4,
 "nbformat_minor": 2
}
