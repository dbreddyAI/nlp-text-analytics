{
 "cells": [
  {
   "cell_type": "markdown",
   "metadata": {},
   "source": [
    "Download the text--Peter Pan, remove the gutenberg_ig column and remove rows that are empty."
   ]
  },
  {
   "cell_type": "code",
   "execution_count": 2,
   "metadata": {},
   "outputs": [],
   "source": [
    "import re\n",
    "from rpy2.robjects.packages import importr\n",
    "import rpy2.robjects as ro\n",
    "from rpy2.robjects import pandas2ri\n",
    "\n",
    "pandas2ri.activate()\n",
    "importr('gutenbergr')\n",
    "\n",
    "df = ro.r('gutenberg_download(\"16\")')\n",
    "df.drop('gutenberg_id', inplace=True, axis=1)\n",
    "df = df[df['text'] != ''].reset_index(drop=True)"
   ]
  },
  {
   "cell_type": "code",
   "execution_count": 3,
   "metadata": {
    "scrolled": false
   },
   "outputs": [
    {
     "data": {
      "text/plain": [
       "0                                             PETER PAN\n",
       "1                                     [PETER AND WENDY]\n",
       "2                By J. M. Barrie [James Matthew Barrie]\n",
       "3     A Millennium Fulcrum Edition (c)1991 by Duncan...\n",
       "4                                             Contents:\n",
       "5                        Chapter 1 PETER BREAKS THROUGH\n",
       "6                                  Chapter 2 THE SHADOW\n",
       "7                       Chapter 3 COME AWAY, COME AWAY!\n",
       "8                                  Chapter 4 THE FLIGHT\n",
       "9                        Chapter 5 THE ISLAND COME TRUE\n",
       "10                           Chapter 6 THE LITTLE HOUSE\n",
       "11                  Chapter 7 THE HOME UNDER THE GROUND\n",
       "12                       Chapter 8 THE MERMAID'S LAGOON\n",
       "13                             Chapter 9 THE NEVER BIRD\n",
       "14                            Chapter 10 THE HAPPY HOME\n",
       "Name: text, dtype: object"
      ]
     },
     "execution_count": 3,
     "metadata": {},
     "output_type": "execute_result"
    }
   ],
   "source": [
    "df.iloc[:15]['text']"
   ]
  },
  {
   "cell_type": "markdown",
   "metadata": {},
   "source": [
    "Capture the title"
   ]
  },
  {
   "cell_type": "code",
   "execution_count": 4,
   "metadata": {},
   "outputs": [
    {
     "data": {
      "text/plain": [
       "'PETER PAN'"
      ]
     },
     "execution_count": 4,
     "metadata": {},
     "output_type": "execute_result"
    }
   ],
   "source": [
    "title = df.iloc[0]['text']\n",
    "title"
   ]
  },
  {
   "cell_type": "markdown",
   "metadata": {},
   "source": [
    "Capture the author"
   ]
  },
  {
   "cell_type": "code",
   "execution_count": 11,
   "metadata": {
    "scrolled": true
   },
   "outputs": [
    {
     "data": {
      "text/plain": [
       "'James Matthew Barrie'"
      ]
     },
     "execution_count": 11,
     "metadata": {},
     "output_type": "execute_result"
    }
   ],
   "source": [
    "author = df.iloc[2]['text']\n",
    "author = re.search('^By.*?\\[(\\w+ \\w+ \\w+)\\]',author).group(1)\n",
    "author"
   ]
  },
  {
   "cell_type": "markdown",
   "metadata": {},
   "source": [
    "See how many occurances of Chapter 1. happen."
   ]
  },
  {
   "cell_type": "code",
   "execution_count": 13,
   "metadata": {},
   "outputs": [
    {
     "data": {
      "text/plain": [
       "[5, 22]"
      ]
     },
     "execution_count": 13,
     "metadata": {},
     "output_type": "execute_result"
    }
   ],
   "source": [
    "df[df.text.str.contains('^Chapter 1 ')].index.tolist()"
   ]
  },
  {
   "cell_type": "markdown",
   "metadata": {},
   "source": [
    "Remove the text up until Chapter 1 begins (there are 2 occurances)"
   ]
  },
  {
   "cell_type": "code",
   "execution_count": 14,
   "metadata": {},
   "outputs": [],
   "source": [
    "df.drop(df.index[:df[df.text.str.contains('^Chapter 1 ')].index.tolist()[0]+1], inplace=True)\n",
    "df.reset_index(inplace=True, drop=True)\n",
    "df.drop(df.index[:df[df.text.str.contains('^Chapter 1 ')].index.tolist()[0]], inplace=True)\n",
    "df.reset_index(inplace=True, drop=True)"
   ]
  },
  {
   "cell_type": "markdown",
   "metadata": {},
   "source": [
    "Remove lines delineating volumes"
   ]
  },
  {
   "cell_type": "markdown",
   "metadata": {},
   "source": [
    "Make a table of contents list with chapters"
   ]
  },
  {
   "cell_type": "code",
   "execution_count": 16,
   "metadata": {},
   "outputs": [],
   "source": [
    "TOC = df[df.text.str.contains('^Chapter')]['text'].tolist()"
   ]
  },
  {
   "cell_type": "code",
   "execution_count": 17,
   "metadata": {},
   "outputs": [
    {
     "data": {
      "text/plain": [
       "17"
      ]
     },
     "execution_count": 17,
     "metadata": {},
     "output_type": "execute_result"
    }
   ],
   "source": [
    "len(TOC)"
   ]
  },
  {
   "cell_type": "markdown",
   "metadata": {},
   "source": [
    "Combine chapter data together"
   ]
  },
  {
   "cell_type": "code",
   "execution_count": 18,
   "metadata": {},
   "outputs": [],
   "source": [
    "corpus_dict = {}\n",
    "i = 0\n",
    "for k,v in df[1:].to_dict()['text'].items():\n",
    "    if i not in corpus_dict:\n",
    "        corpus_dict[i] = []\n",
    "    if v not in TOC:\n",
    "        corpus_dict[i].append(v)\n",
    "    else:\n",
    "        i += 1\n",
    "        corpus_dict[i] = []"
   ]
  },
  {
   "cell_type": "code",
   "execution_count": 19,
   "metadata": {},
   "outputs": [
    {
     "data": {
      "text/plain": [
       "17"
      ]
     },
     "execution_count": 19,
     "metadata": {},
     "output_type": "execute_result"
    }
   ],
   "source": [
    "len(corpus_dict)"
   ]
  },
  {
   "cell_type": "markdown",
   "metadata": {},
   "source": [
    "Parse text into sentences, store them in a dict as prepartion to move into a dataframe with columns of title, chapter and sentence."
   ]
  },
  {
   "cell_type": "code",
   "execution_count": 20,
   "metadata": {},
   "outputs": [],
   "source": [
    "from nltk.tokenize import sent_tokenize\n",
    "sentence_dict = {}\n",
    "sentence_dict['title'] = []\n",
    "sentence_dict['chapter'] = []\n",
    "sentence_dict['sentence'] = []\n",
    "sentence_dict['author'] = []\n",
    "for k,v in corpus_dict.items():\n",
    "    for sentence in sent_tokenize(' '.join(v)):\n",
    "        sentence_dict['title'].append(title)\n",
    "        sentence_dict['chapter'].append(TOC[k])\n",
    "        sentence_dict['sentence'].append(sentence)\n",
    "        sentence_dict['author'].append(author)"
   ]
  },
  {
   "cell_type": "markdown",
   "metadata": {},
   "source": [
    "Place the dict into a data frame so the data can be output to a csv easily."
   ]
  },
  {
   "cell_type": "code",
   "execution_count": 21,
   "metadata": {},
   "outputs": [],
   "source": [
    "import pandas as pd\n",
    "final_df = pd.DataFrame.from_dict(sentence_dict)"
   ]
  },
  {
   "cell_type": "code",
   "execution_count": 26,
   "metadata": {},
   "outputs": [
    {
     "data": {
      "text/html": [
       "<div>\n",
       "<style scoped>\n",
       "    .dataframe tbody tr th:only-of-type {\n",
       "        vertical-align: middle;\n",
       "    }\n",
       "\n",
       "    .dataframe tbody tr th {\n",
       "        vertical-align: top;\n",
       "    }\n",
       "\n",
       "    .dataframe thead th {\n",
       "        text-align: right;\n",
       "    }\n",
       "</style>\n",
       "<table border=\"1\" class=\"dataframe\">\n",
       "  <thead>\n",
       "    <tr style=\"text-align: right;\">\n",
       "      <th></th>\n",
       "      <th>author</th>\n",
       "      <th>chapter</th>\n",
       "      <th>sentence</th>\n",
       "      <th>title</th>\n",
       "    </tr>\n",
       "  </thead>\n",
       "  <tbody>\n",
       "    <tr>\n",
       "      <th>850</th>\n",
       "      <td>James Matthew Barrie</td>\n",
       "      <td>Chapter 4 THE FLIGHT</td>\n",
       "      <td>In the old days at home the Neverland had alwa...</td>\n",
       "      <td>PETER PAN</td>\n",
       "    </tr>\n",
       "    <tr>\n",
       "      <th>2510</th>\n",
       "      <td>James Matthew Barrie</td>\n",
       "      <td>Chapter 14 THE PIRATE SHIP</td>\n",
       "      <td>There was not a child on board the brig that n...</td>\n",
       "      <td>PETER PAN</td>\n",
       "    </tr>\n",
       "    <tr>\n",
       "      <th>2068</th>\n",
       "      <td>James Matthew Barrie</td>\n",
       "      <td>Chapter 11 WENDY'S STORY</td>\n",
       "      <td>Now I want you to consider the feelings of the...</td>\n",
       "      <td>PETER PAN</td>\n",
       "    </tr>\n",
       "    <tr>\n",
       "      <th>2181</th>\n",
       "      <td>James Matthew Barrie</td>\n",
       "      <td>Chapter 11 WENDY'S STORY</td>\n",
       "      <td>\"Get your things, Peter,\" she cried, shaking.</td>\n",
       "      <td>PETER PAN</td>\n",
       "    </tr>\n",
       "    <tr>\n",
       "      <th>2833</th>\n",
       "      <td>James Matthew Barrie</td>\n",
       "      <td>Chapter 15 \"HOOK OR ME THIS TIME\"</td>\n",
       "      <td>It said \"half-past one!\"</td>\n",
       "      <td>PETER PAN</td>\n",
       "    </tr>\n",
       "  </tbody>\n",
       "</table>\n",
       "</div>"
      ],
      "text/plain": [
       "                    author                            chapter  \\\n",
       "850   James Matthew Barrie               Chapter 4 THE FLIGHT   \n",
       "2510  James Matthew Barrie         Chapter 14 THE PIRATE SHIP   \n",
       "2068  James Matthew Barrie           Chapter 11 WENDY'S STORY   \n",
       "2181  James Matthew Barrie           Chapter 11 WENDY'S STORY   \n",
       "2833  James Matthew Barrie  Chapter 15 \"HOOK OR ME THIS TIME\"   \n",
       "\n",
       "                                               sentence      title  \n",
       "850   In the old days at home the Neverland had alwa...  PETER PAN  \n",
       "2510  There was not a child on board the brig that n...  PETER PAN  \n",
       "2068  Now I want you to consider the feelings of the...  PETER PAN  \n",
       "2181      \"Get your things, Peter,\" she cried, shaking.  PETER PAN  \n",
       "2833                           It said \"half-past one!\"  PETER PAN  "
      ]
     },
     "execution_count": 26,
     "metadata": {},
     "output_type": "execute_result"
    }
   ],
   "source": [
    "final_df.sample(5)"
   ]
  },
  {
   "cell_type": "code",
   "execution_count": 27,
   "metadata": {},
   "outputs": [],
   "source": [
    "final_df.to_csv('./peter_pan.csv', index=False)"
   ]
  },
  {
   "cell_type": "code",
   "execution_count": null,
   "metadata": {},
   "outputs": [],
   "source": []
  }
 ],
 "metadata": {
  "kernelspec": {
   "display_name": "Python 3",
   "language": "python",
   "name": "python3"
  },
  "language_info": {
   "codemirror_mode": {
    "name": "ipython",
    "version": 3
   },
   "file_extension": ".py",
   "mimetype": "text/x-python",
   "name": "python",
   "nbconvert_exporter": "python",
   "pygments_lexer": "ipython3",
   "version": "3.6.4"
  }
 },
 "nbformat": 4,
 "nbformat_minor": 2
}
