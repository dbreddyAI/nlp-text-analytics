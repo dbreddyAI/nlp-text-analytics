{
 "cells": [
  {
   "cell_type": "markdown",
   "metadata": {},
   "source": [
    "Download the text--Pride and Prejudice, remove the gutenberg_ig column and remove rows that are empty."
   ]
  },
  {
   "cell_type": "code",
   "execution_count": 13,
   "metadata": {},
   "outputs": [],
   "source": [
    "import re\n",
    "from rpy2.robjects.packages import importr\n",
    "import rpy2.robjects as ro\n",
    "from rpy2.robjects import pandas2ri\n",
    "\n",
    "pandas2ri.activate()\n",
    "importr('gutenbergr')\n",
    "\n",
    "df = ro.r('gutenberg_download(\"1342\")')\n",
    "df.drop('gutenberg_id', inplace=True, axis=1)\n",
    "df = df[df['text'] != ''].reset_index(drop=True)"
   ]
  },
  {
   "cell_type": "code",
   "execution_count": 14,
   "metadata": {
    "scrolled": false
   },
   "outputs": [
    {
     "data": {
      "text/plain": [
       "0                                   PRIDE AND PREJUDICE\n",
       "1                                        By Jane Austen\n",
       "2                                             Chapter 1\n",
       "3     It is a truth universally acknowledged, that a...\n",
       "4         of a good fortune, must be in want of a wife.\n",
       "5     However little known the feelings or views of ...\n",
       "6     first entering a neighbourhood, this truth is ...\n",
       "7     of the surrounding families, that he is consid...\n",
       "8              of some one or other of their daughters.\n",
       "9     \"My dear Mr. Bennet,\" said his lady to him one...\n",
       "10                    Netherfield Park is let at last?\"\n",
       "11                  Mr. Bennet replied that he had not.\n",
       "12    \"But it is,\" returned she; \"for Mrs. Long has ...\n",
       "13                               told me all about it.\"\n",
       "14                           Mr. Bennet made no answer.\n",
       "Name: text, dtype: object"
      ]
     },
     "execution_count": 14,
     "metadata": {},
     "output_type": "execute_result"
    }
   ],
   "source": [
    "df.iloc[:15]['text']"
   ]
  },
  {
   "cell_type": "markdown",
   "metadata": {},
   "source": [
    "Capture the title"
   ]
  },
  {
   "cell_type": "code",
   "execution_count": 15,
   "metadata": {},
   "outputs": [
    {
     "data": {
      "text/plain": [
       "'PRIDE AND PREJUDICE'"
      ]
     },
     "execution_count": 15,
     "metadata": {},
     "output_type": "execute_result"
    }
   ],
   "source": [
    "title = df.iloc[0]['text']\n",
    "title"
   ]
  },
  {
   "cell_type": "markdown",
   "metadata": {},
   "source": [
    "Capture the author"
   ]
  },
  {
   "cell_type": "code",
   "execution_count": 16,
   "metadata": {},
   "outputs": [
    {
     "data": {
      "text/plain": [
       "'Jane Austen'"
      ]
     },
     "execution_count": 16,
     "metadata": {},
     "output_type": "execute_result"
    }
   ],
   "source": [
    "author = df.iloc[1]['text']\n",
    "author = re.sub(r'^By ','',author)\n",
    "author"
   ]
  },
  {
   "cell_type": "code",
   "execution_count": 17,
   "metadata": {},
   "outputs": [
    {
     "data": {
      "text/plain": [
       "[2]"
      ]
     },
     "execution_count": 17,
     "metadata": {},
     "output_type": "execute_result"
    }
   ],
   "source": [
    "df[df.text.str.contains('^Chapter 1$')].index.tolist()"
   ]
  },
  {
   "cell_type": "markdown",
   "metadata": {},
   "source": [
    "Remove the text up until Chapter 1 (only one line in this case)"
   ]
  },
  {
   "cell_type": "code",
   "execution_count": 18,
   "metadata": {},
   "outputs": [],
   "source": [
    "df.drop(df.index[:df[df.text.str.contains('^Chapter 1$')].index.tolist()[0]], inplace=True)\n",
    "df.reset_index(inplace=True, drop=True)"
   ]
  },
  {
   "cell_type": "code",
   "execution_count": 19,
   "metadata": {},
   "outputs": [
    {
     "data": {
      "text/html": [
       "<div>\n",
       "<style scoped>\n",
       "    .dataframe tbody tr th:only-of-type {\n",
       "        vertical-align: middle;\n",
       "    }\n",
       "\n",
       "    .dataframe tbody tr th {\n",
       "        vertical-align: top;\n",
       "    }\n",
       "\n",
       "    .dataframe thead th {\n",
       "        text-align: right;\n",
       "    }\n",
       "</style>\n",
       "<table border=\"1\" class=\"dataframe\">\n",
       "  <thead>\n",
       "    <tr style=\"text-align: right;\">\n",
       "      <th></th>\n",
       "      <th>text</th>\n",
       "    </tr>\n",
       "  </thead>\n",
       "  <tbody>\n",
       "    <tr>\n",
       "      <th>0</th>\n",
       "      <td>Chapter 1</td>\n",
       "    </tr>\n",
       "    <tr>\n",
       "      <th>1</th>\n",
       "      <td>It is a truth universally acknowledged, that a...</td>\n",
       "    </tr>\n",
       "    <tr>\n",
       "      <th>2</th>\n",
       "      <td>of a good fortune, must be in want of a wife.</td>\n",
       "    </tr>\n",
       "    <tr>\n",
       "      <th>3</th>\n",
       "      <td>However little known the feelings or views of ...</td>\n",
       "    </tr>\n",
       "    <tr>\n",
       "      <th>4</th>\n",
       "      <td>first entering a neighbourhood, this truth is ...</td>\n",
       "    </tr>\n",
       "  </tbody>\n",
       "</table>\n",
       "</div>"
      ],
      "text/plain": [
       "                                                text\n",
       "0                                          Chapter 1\n",
       "1  It is a truth universally acknowledged, that a...\n",
       "2      of a good fortune, must be in want of a wife.\n",
       "3  However little known the feelings or views of ...\n",
       "4  first entering a neighbourhood, this truth is ..."
      ]
     },
     "execution_count": 19,
     "metadata": {},
     "output_type": "execute_result"
    }
   ],
   "source": [
    "df.head(5)"
   ]
  },
  {
   "cell_type": "markdown",
   "metadata": {},
   "source": [
    "Make a table of contents list with chapters and epilogue"
   ]
  },
  {
   "cell_type": "code",
   "execution_count": 20,
   "metadata": {},
   "outputs": [],
   "source": [
    "TOC = df[df.text.str.contains('^Chapter')]['text'].tolist()"
   ]
  },
  {
   "cell_type": "code",
   "execution_count": 21,
   "metadata": {},
   "outputs": [
    {
     "data": {
      "text/plain": [
       "61"
      ]
     },
     "execution_count": 21,
     "metadata": {},
     "output_type": "execute_result"
    }
   ],
   "source": [
    "len(TOC)"
   ]
  },
  {
   "cell_type": "markdown",
   "metadata": {},
   "source": [
    "Combine chapter data together"
   ]
  },
  {
   "cell_type": "code",
   "execution_count": 22,
   "metadata": {},
   "outputs": [],
   "source": [
    "corpus_dict = {}\n",
    "i = 0\n",
    "for k,v in df[1:].to_dict()['text'].items():\n",
    "    if i not in corpus_dict:\n",
    "        corpus_dict[i] = []\n",
    "    if v not in TOC:\n",
    "        corpus_dict[i].append(v)\n",
    "    else:\n",
    "        i += 1\n",
    "        corpus_dict[i] = []"
   ]
  },
  {
   "cell_type": "code",
   "execution_count": 23,
   "metadata": {},
   "outputs": [
    {
     "data": {
      "text/plain": [
       "61"
      ]
     },
     "execution_count": 23,
     "metadata": {},
     "output_type": "execute_result"
    }
   ],
   "source": [
    "len(corpus_dict)"
   ]
  },
  {
   "cell_type": "markdown",
   "metadata": {},
   "source": [
    "Parse text into sentences, store them in a dict as prepartion to move into a dataframe with columns of title, chapter and sentence."
   ]
  },
  {
   "cell_type": "code",
   "execution_count": 25,
   "metadata": {},
   "outputs": [],
   "source": [
    "from nltk.tokenize import sent_tokenize\n",
    "sentence_dict = {}\n",
    "sentence_dict['title'] = []\n",
    "sentence_dict['chapter'] = []\n",
    "sentence_dict['sentence'] = []\n",
    "sentence_dict['author'] = []\n",
    "for k,v in corpus_dict.items():\n",
    "    for sentence in sent_tokenize(' '.join(v)):\n",
    "        sentence_dict['title'].append(title)\n",
    "        sentence_dict['chapter'].append(TOC[k])\n",
    "        sentence_dict['sentence'].append(sentence)\n",
    "        sentence_dict['author'].append(author)"
   ]
  },
  {
   "cell_type": "markdown",
   "metadata": {},
   "source": [
    "Place the dict into a data frame so the data can be output to a csv easily."
   ]
  },
  {
   "cell_type": "code",
   "execution_count": 26,
   "metadata": {},
   "outputs": [],
   "source": [
    "import pandas as pd\n",
    "final_df = pd.DataFrame.from_dict(sentence_dict)"
   ]
  },
  {
   "cell_type": "code",
   "execution_count": 27,
   "metadata": {},
   "outputs": [
    {
     "data": {
      "text/html": [
       "<div>\n",
       "<style scoped>\n",
       "    .dataframe tbody tr th:only-of-type {\n",
       "        vertical-align: middle;\n",
       "    }\n",
       "\n",
       "    .dataframe tbody tr th {\n",
       "        vertical-align: top;\n",
       "    }\n",
       "\n",
       "    .dataframe thead th {\n",
       "        text-align: right;\n",
       "    }\n",
       "</style>\n",
       "<table border=\"1\" class=\"dataframe\">\n",
       "  <thead>\n",
       "    <tr style=\"text-align: right;\">\n",
       "      <th></th>\n",
       "      <th>author</th>\n",
       "      <th>chapter</th>\n",
       "      <th>sentence</th>\n",
       "      <th>title</th>\n",
       "    </tr>\n",
       "  </thead>\n",
       "  <tbody>\n",
       "    <tr>\n",
       "      <th>2031</th>\n",
       "      <td>Jane Austen</td>\n",
       "      <td>Chapter 24</td>\n",
       "      <td>Let Wickham be _your_ man.</td>\n",
       "      <td>PRIDE AND PREJUDICE</td>\n",
       "    </tr>\n",
       "    <tr>\n",
       "      <th>1083</th>\n",
       "      <td>Jane Austen</td>\n",
       "      <td>Chapter 14</td>\n",
       "      <td>May I ask whether these pleasing attentions pr...</td>\n",
       "      <td>PRIDE AND PREJUDICE</td>\n",
       "    </tr>\n",
       "    <tr>\n",
       "      <th>595</th>\n",
       "      <td>Jane Austen</td>\n",
       "      <td>Chapter 8</td>\n",
       "      <td>My dear Charles, what do you mean?\"</td>\n",
       "      <td>PRIDE AND PREJUDICE</td>\n",
       "    </tr>\n",
       "    <tr>\n",
       "      <th>4654</th>\n",
       "      <td>Jane Austen</td>\n",
       "      <td>Chapter 51</td>\n",
       "      <td>And it was settled that we should all be there...</td>\n",
       "      <td>PRIDE AND PREJUDICE</td>\n",
       "    </tr>\n",
       "    <tr>\n",
       "      <th>3118</th>\n",
       "      <td>Jane Austen</td>\n",
       "      <td>Chapter 38</td>\n",
       "      <td>There is in everything a most remarkable resem...</td>\n",
       "      <td>PRIDE AND PREJUDICE</td>\n",
       "    </tr>\n",
       "  </tbody>\n",
       "</table>\n",
       "</div>"
      ],
      "text/plain": [
       "           author     chapter  \\\n",
       "2031  Jane Austen  Chapter 24   \n",
       "1083  Jane Austen  Chapter 14   \n",
       "595   Jane Austen   Chapter 8   \n",
       "4654  Jane Austen  Chapter 51   \n",
       "3118  Jane Austen  Chapter 38   \n",
       "\n",
       "                                               sentence                title  \n",
       "2031                         Let Wickham be _your_ man.  PRIDE AND PREJUDICE  \n",
       "1083  May I ask whether these pleasing attentions pr...  PRIDE AND PREJUDICE  \n",
       "595                 My dear Charles, what do you mean?\"  PRIDE AND PREJUDICE  \n",
       "4654  And it was settled that we should all be there...  PRIDE AND PREJUDICE  \n",
       "3118  There is in everything a most remarkable resem...  PRIDE AND PREJUDICE  "
      ]
     },
     "execution_count": 27,
     "metadata": {},
     "output_type": "execute_result"
    }
   ],
   "source": [
    "final_df.sample(5)"
   ]
  },
  {
   "cell_type": "code",
   "execution_count": 28,
   "metadata": {},
   "outputs": [],
   "source": [
    "final_df.to_csv('./pride_prejudice.csv', index=False)"
   ]
  },
  {
   "cell_type": "code",
   "execution_count": null,
   "metadata": {},
   "outputs": [],
   "source": []
  }
 ],
 "metadata": {
  "kernelspec": {
   "display_name": "Python 3",
   "language": "python",
   "name": "python3"
  },
  "language_info": {
   "codemirror_mode": {
    "name": "ipython",
    "version": 3
   },
   "file_extension": ".py",
   "mimetype": "text/x-python",
   "name": "python",
   "nbconvert_exporter": "python",
   "pygments_lexer": "ipython3",
   "version": "3.6.4"
  }
 },
 "nbformat": 4,
 "nbformat_minor": 2
}
